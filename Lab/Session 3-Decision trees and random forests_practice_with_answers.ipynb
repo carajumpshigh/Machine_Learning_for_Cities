{
 "cells": [
  {
   "cell_type": "markdown",
   "metadata": {},
   "source": [
    "# Introduction to Scikit-learn (sklearn)\n",
    "\n",
    "1. Preprocessing.\n",
    "\n",
    "2. Supervised Learning.\n",
    "\n",
    "3. Model selection.\n",
    "\n",
    "4. Decision trees.\n",
    "\n",
    "5. Random forests."
   ]
  },
  {
   "cell_type": "code",
   "execution_count": 1,
   "metadata": {},
   "outputs": [
    {
     "data": {
      "text/plain": [
       "'0.20.2'"
      ]
     },
     "execution_count": 1,
     "metadata": {},
     "output_type": "execute_result"
    }
   ],
   "source": [
    "# Check your version and make sure >0.18\n",
    "import pandas as pd\n",
    "import numpy as np\n",
    "import sklearn\n",
    "sklearn.__version__"
   ]
  },
  {
   "cell_type": "markdown",
   "metadata": {
    "collapsed": true
   },
   "source": [
    "### 1. Preprocessing."
   ]
  },
  {
   "cell_type": "markdown",
   "metadata": {},
   "source": [
    "#### Scale,  Normalization, Binarization, and so on."
   ]
  },
  {
   "cell_type": "code",
   "execution_count": 2,
   "metadata": {},
   "outputs": [],
   "source": [
    "from sklearn import preprocessing"
   ]
  },
  {
   "cell_type": "code",
   "execution_count": 3,
   "metadata": {},
   "outputs": [
    {
     "data": {
      "text/plain": [
       "array([[ 1., -1.,  2.],\n",
       "       [ 2.,  0.,  0.],\n",
       "       [ 0.,  1., -1.]])"
      ]
     },
     "execution_count": 3,
     "metadata": {},
     "output_type": "execute_result"
    }
   ],
   "source": [
    "X = np.array([[ 1., -1.,  2.],\n",
    "               [ 2.,  0.,  0.],\n",
    "             [ 0.,  1., -1.]])\n",
    "X"
   ]
  },
  {
   "cell_type": "code",
   "execution_count": 4,
   "metadata": {},
   "outputs": [
    {
     "data": {
      "text/plain": [
       "array([[ 0.        , -1.22474487,  1.33630621],\n",
       "       [ 1.22474487,  0.        , -0.26726124],\n",
       "       [-1.22474487,  1.22474487, -1.06904497]])"
      ]
     },
     "execution_count": 4,
     "metadata": {},
     "output_type": "execute_result"
    }
   ],
   "source": [
    "# make each column have mean = 0 and std dev = 1\n",
    "X_scaled = preprocessing.scale(X)\n",
    "X_scaled"
   ]
  },
  {
   "cell_type": "code",
   "execution_count": 5,
   "metadata": {},
   "outputs": [
    {
     "data": {
      "text/plain": [
       "array([0., 0., 0.])"
      ]
     },
     "execution_count": 5,
     "metadata": {},
     "output_type": "execute_result"
    }
   ],
   "source": [
    "X_scaled.mean(axis=0)"
   ]
  },
  {
   "cell_type": "code",
   "execution_count": 6,
   "metadata": {},
   "outputs": [
    {
     "data": {
      "text/plain": [
       "array([1., 1., 1.])"
      ]
     },
     "execution_count": 6,
     "metadata": {},
     "output_type": "execute_result"
    }
   ],
   "source": [
    "X_scaled.std(axis=0)"
   ]
  },
  {
   "cell_type": "code",
   "execution_count": 7,
   "metadata": {},
   "outputs": [
    {
     "data": {
      "text/plain": [
       "array([[ 0.        , -1.22474487,  1.33630621],\n",
       "       [ 1.22474487,  0.        , -0.26726124],\n",
       "       [-1.22474487,  1.22474487, -1.06904497]])"
      ]
     },
     "execution_count": 7,
     "metadata": {},
     "output_type": "execute_result"
    }
   ],
   "source": [
    "# Equivalently, we could use:\n",
    "(X-X.mean(axis=0))/X.std(axis=0)"
   ]
  },
  {
   "cell_type": "markdown",
   "metadata": {},
   "source": [
    "#### Normalize \n",
    "\n",
    "Normalization is the process of scaling individual samples to have unit norm. This process can be useful if you plan to use a quadratic form such as the dot-product or any other kernel to quantify the similarity of any pair of samples."
   ]
  },
  {
   "cell_type": "code",
   "execution_count": 8,
   "metadata": {},
   "outputs": [
    {
     "name": "stdout",
     "output_type": "stream",
     "text": [
      "[[ 0.4472136  -0.70710678  0.89442719]\n",
      " [ 0.89442719  0.          0.        ]\n",
      " [ 0.          0.70710678 -0.4472136 ]]\n",
      "\n",
      "[[ 0.4472136  -0.70710678  0.89442719]\n",
      " [ 0.89442719  0.          0.        ]\n",
      " [ 0.          0.70710678 -0.4472136 ]]\n"
     ]
    }
   ],
   "source": [
    "print preprocessing.normalize(X,axis=0)\n",
    "print\n",
    "# equivalently, we could use:\n",
    "print X/np.sqrt((X*X).sum(axis=0))"
   ]
  },
  {
   "cell_type": "markdown",
   "metadata": {},
   "source": [
    "Sklearn has a ton of methods implemented, many of which we will see later in the course!\n",
    "\n",
    "### Supervised Learning \n",
    "\n",
    "(Regression/Classification)\n",
    "\n",
    "Linear Models (Ordinary Least Squares, Logistic Regression, Lasso and Ridge...)\n",
    "\n",
    "Kernel regression\n",
    "\n",
    "SVM\n",
    "\n",
    "Gaussian Processes\n",
    "\n",
    "Decision Trees and Random Forests (next class)\n",
    "\n",
    "Naive Bayes\n",
    "\n",
    "Supervised Neural Network models (incl. Deep Learning)\n",
    "\n",
    "### Unsupervised Learning\n",
    "\n",
    "Clustering.\n",
    "\n",
    "Dimension Reduction.\n",
    "\n",
    "Representation in Neural Networks such as RBM"
   ]
  },
  {
   "cell_type": "markdown",
   "metadata": {
    "collapsed": true
   },
   "source": [
    "### Logistic Regression"
   ]
  },
  {
   "cell_type": "code",
   "execution_count": 9,
   "metadata": {},
   "outputs": [],
   "source": [
    "import matplotlib.pyplot as plt\n",
    "from sklearn import linear_model, datasets\n",
    "\n",
    "# import some data to play with\n",
    "iris = datasets.load_iris()\n",
    "X = iris.data[:, :2]  # we only take the first two features.\n",
    "Y = iris.target"
   ]
  },
  {
   "cell_type": "code",
   "execution_count": 10,
   "metadata": {},
   "outputs": [
    {
     "data": {
      "image/png": "[encoded data removed]",
      "text/plain": [
       "<Figure size 432x288 with 1 Axes>"
      ]
     },
     "metadata": {
      "needs_background": "light"
     },
     "output_type": "display_data"
    }
   ],
   "source": [
    "# Plot also the training points\n",
    "plt.scatter(X[:, 0], X[:, 1], c=Y, cmap=plt.cm.Spectral)\n",
    "plt.xlabel('Sepal length')\n",
    "plt.ylabel('Sepal width')\n",
    "plt.show()"
   ]
  },
  {
   "cell_type": "code",
   "execution_count": 11,
   "metadata": {},
   "outputs": [
    {
     "name": "stderr",
     "output_type": "stream",
     "text": [
      "C:\\Users\\dbn2\\AppData\\Local\\Continuum\\anaconda2\\lib\\site-packages\\sklearn\\linear_model\\logistic.py:433: FutureWarning: Default solver will be changed to 'lbfgs' in 0.22. Specify a solver to silence this warning.\n",
      "  FutureWarning)\n",
      "C:\\Users\\dbn2\\AppData\\Local\\Continuum\\anaconda2\\lib\\site-packages\\sklearn\\linear_model\\logistic.py:460: FutureWarning: Default multi_class will be changed to 'auto' in 0.22. Specify the multi_class option to silence this warning.\n",
      "  \"this warning.\", FutureWarning)\n"
     ]
    },
    {
     "data": {
      "image/png": "[encoded data removed]",
      "text/plain": [
       "<Figure size 432x288 with 1 Axes>"
      ]
     },
     "metadata": {},
     "output_type": "display_data"
    }
   ],
   "source": [
    "# Choose an appropriate machine learning model.  Here we create an instance of logistic regression classifier.\n",
    "logreg = linear_model.LogisticRegression()\n",
    "\n",
    "# Train the model with the \"fit\" function, and predict using the \"predict\" function\n",
    "logreg.fit(X, Y)\n",
    "\n",
    "# now the color represents the predicted class\n",
    "plt.scatter(X[:, 0], X[:, 1], c=logreg.predict(X), cmap=plt.cm.Spectral)\n",
    "plt.xlabel('Sepal length')\n",
    "plt.ylabel('Sepal width')\n",
    "\n",
    "plt.xticks(())\n",
    "plt.yticks(())\n",
    "\n",
    "plt.show()\n"
   ]
  },
  {
   "cell_type": "markdown",
   "metadata": {},
   "source": [
    "### Tips: How to use packages from sklearn.\n",
    "\n",
    "Step one: What is the problem we want to solve and what is the model we want to fit. \n",
    "\n",
    "Step two: What are the hyper-parameters related to model structure.\n",
    "\n",
    "Step three: What are the inputs dataframe and what are the parameters we want to tune.\n",
    "\n",
    "Step four: What are hyper-parameters for training process. (learning rate, iteration max...)\n",
    "\n",
    "step five: What are the outputs and tuned parameters."
   ]
  },
  {
   "cell_type": "markdown",
   "metadata": {},
   "source": [
    "### Penalized Linear Regression"
   ]
  },
  {
   "cell_type": "code",
   "execution_count": 12,
   "metadata": {},
   "outputs": [],
   "source": [
    "X = np.random.random((10,10))\n",
    "y = 5*(X[:,1]-0.5)+3*(X[:,5]-0.5)+np.random.random(10)"
   ]
  },
  {
   "cell_type": "code",
   "execution_count": 13,
   "metadata": {},
   "outputs": [
    {
     "data": {
      "text/html": [
       "<div>\n",
       "<style scoped>\n",
       "    .dataframe tbody tr th:only-of-type {\n",
       "        vertical-align: middle;\n",
       "    }\n",
       "\n",
       "    .dataframe tbody tr th {\n",
       "        vertical-align: top;\n",
       "    }\n",
       "\n",
       "    .dataframe thead th {\n",
       "        text-align: right;\n",
       "    }\n",
       "</style>\n",
       "<table border=\"1\" class=\"dataframe\">\n",
       "  <thead>\n",
       "    <tr style=\"text-align: right;\">\n",
       "      <th></th>\n",
       "      <th>0</th>\n",
       "      <th>1</th>\n",
       "      <th>2</th>\n",
       "      <th>3</th>\n",
       "      <th>4</th>\n",
       "      <th>5</th>\n",
       "      <th>6</th>\n",
       "      <th>7</th>\n",
       "      <th>8</th>\n",
       "      <th>9</th>\n",
       "    </tr>\n",
       "  </thead>\n",
       "  <tbody>\n",
       "    <tr>\n",
       "      <th>0</th>\n",
       "      <td>0.334222</td>\n",
       "      <td>0.193815</td>\n",
       "      <td>0.195237</td>\n",
       "      <td>0.287822</td>\n",
       "      <td>0.470730</td>\n",
       "      <td>0.952050</td>\n",
       "      <td>0.301550</td>\n",
       "      <td>0.150637</td>\n",
       "      <td>0.294556</td>\n",
       "      <td>0.785064</td>\n",
       "    </tr>\n",
       "    <tr>\n",
       "      <th>1</th>\n",
       "      <td>0.484428</td>\n",
       "      <td>0.117547</td>\n",
       "      <td>0.811828</td>\n",
       "      <td>0.641969</td>\n",
       "      <td>0.292846</td>\n",
       "      <td>0.256159</td>\n",
       "      <td>0.636754</td>\n",
       "      <td>0.240180</td>\n",
       "      <td>0.343448</td>\n",
       "      <td>0.950441</td>\n",
       "    </tr>\n",
       "    <tr>\n",
       "      <th>2</th>\n",
       "      <td>0.498017</td>\n",
       "      <td>0.467471</td>\n",
       "      <td>0.594372</td>\n",
       "      <td>0.553803</td>\n",
       "      <td>0.459137</td>\n",
       "      <td>0.802663</td>\n",
       "      <td>0.670052</td>\n",
       "      <td>0.350345</td>\n",
       "      <td>0.047257</td>\n",
       "      <td>0.579033</td>\n",
       "    </tr>\n",
       "    <tr>\n",
       "      <th>3</th>\n",
       "      <td>0.477612</td>\n",
       "      <td>0.958039</td>\n",
       "      <td>0.160128</td>\n",
       "      <td>0.815771</td>\n",
       "      <td>0.276749</td>\n",
       "      <td>0.623137</td>\n",
       "      <td>0.539868</td>\n",
       "      <td>0.379717</td>\n",
       "      <td>0.588625</td>\n",
       "      <td>0.465812</td>\n",
       "    </tr>\n",
       "    <tr>\n",
       "      <th>4</th>\n",
       "      <td>0.467323</td>\n",
       "      <td>0.742925</td>\n",
       "      <td>0.564768</td>\n",
       "      <td>0.764887</td>\n",
       "      <td>0.858746</td>\n",
       "      <td>0.585049</td>\n",
       "      <td>0.044721</td>\n",
       "      <td>0.185948</td>\n",
       "      <td>0.706992</td>\n",
       "      <td>0.827224</td>\n",
       "    </tr>\n",
       "    <tr>\n",
       "      <th>5</th>\n",
       "      <td>0.289642</td>\n",
       "      <td>0.305183</td>\n",
       "      <td>0.383729</td>\n",
       "      <td>0.265528</td>\n",
       "      <td>0.380348</td>\n",
       "      <td>0.103444</td>\n",
       "      <td>0.346162</td>\n",
       "      <td>0.648658</td>\n",
       "      <td>0.865542</td>\n",
       "      <td>0.592390</td>\n",
       "    </tr>\n",
       "    <tr>\n",
       "      <th>6</th>\n",
       "      <td>0.338082</td>\n",
       "      <td>0.438316</td>\n",
       "      <td>0.900064</td>\n",
       "      <td>0.622087</td>\n",
       "      <td>0.028948</td>\n",
       "      <td>0.566480</td>\n",
       "      <td>0.151111</td>\n",
       "      <td>0.327265</td>\n",
       "      <td>0.322681</td>\n",
       "      <td>0.230645</td>\n",
       "    </tr>\n",
       "    <tr>\n",
       "      <th>7</th>\n",
       "      <td>0.718962</td>\n",
       "      <td>0.795144</td>\n",
       "      <td>0.132886</td>\n",
       "      <td>0.851726</td>\n",
       "      <td>0.444411</td>\n",
       "      <td>0.426848</td>\n",
       "      <td>0.568736</td>\n",
       "      <td>0.409767</td>\n",
       "      <td>0.813550</td>\n",
       "      <td>0.407405</td>\n",
       "    </tr>\n",
       "    <tr>\n",
       "      <th>8</th>\n",
       "      <td>0.575940</td>\n",
       "      <td>0.618970</td>\n",
       "      <td>0.102352</td>\n",
       "      <td>0.274477</td>\n",
       "      <td>0.811545</td>\n",
       "      <td>0.279174</td>\n",
       "      <td>0.588280</td>\n",
       "      <td>0.094155</td>\n",
       "      <td>0.697566</td>\n",
       "      <td>0.251388</td>\n",
       "    </tr>\n",
       "    <tr>\n",
       "      <th>9</th>\n",
       "      <td>0.582201</td>\n",
       "      <td>0.504671</td>\n",
       "      <td>0.676415</td>\n",
       "      <td>0.706565</td>\n",
       "      <td>0.075235</td>\n",
       "      <td>0.924595</td>\n",
       "      <td>0.736975</td>\n",
       "      <td>0.455084</td>\n",
       "      <td>0.187921</td>\n",
       "      <td>0.082281</td>\n",
       "    </tr>\n",
       "  </tbody>\n",
       "</table>\n",
       "</div>"
      ],
      "text/plain": [
       "          0         1         2         3         4         5         6  \\\n",
       "0  0.334222  0.193815  0.195237  0.287822  0.470730  0.952050  0.301550   \n",
       "1  0.484428  0.117547  0.811828  0.641969  0.292846  0.256159  0.636754   \n",
       "2  0.498017  0.467471  0.594372  0.553803  0.459137  0.802663  0.670052   \n",
       "3  0.477612  0.958039  0.160128  0.815771  0.276749  0.623137  0.539868   \n",
       "4  0.467323  0.742925  0.564768  0.764887  0.858746  0.585049  0.044721   \n",
       "5  0.289642  0.305183  0.383729  0.265528  0.380348  0.103444  0.346162   \n",
       "6  0.338082  0.438316  0.900064  0.622087  0.028948  0.566480  0.151111   \n",
       "7  0.718962  0.795144  0.132886  0.851726  0.444411  0.426848  0.568736   \n",
       "8  0.575940  0.618970  0.102352  0.274477  0.811545  0.279174  0.588280   \n",
       "9  0.582201  0.504671  0.676415  0.706565  0.075235  0.924595  0.736975   \n",
       "\n",
       "          7         8         9  \n",
       "0  0.150637  0.294556  0.785064  \n",
       "1  0.240180  0.343448  0.950441  \n",
       "2  0.350345  0.047257  0.579033  \n",
       "3  0.379717  0.588625  0.465812  \n",
       "4  0.185948  0.706992  0.827224  \n",
       "5  0.648658  0.865542  0.592390  \n",
       "6  0.327265  0.322681  0.230645  \n",
       "7  0.409767  0.813550  0.407405  \n",
       "8  0.094155  0.697566  0.251388  \n",
       "9  0.455084  0.187921  0.082281  "
      ]
     },
     "execution_count": 13,
     "metadata": {},
     "output_type": "execute_result"
    }
   ],
   "source": [
    "pd.DataFrame(X)"
   ]
  },
  {
   "cell_type": "code",
   "execution_count": 14,
   "metadata": {},
   "outputs": [
    {
     "data": {
      "text/plain": [
       "0   -0.026834\n",
       "1   -1.706921\n",
       "2    1.418002\n",
       "3    3.486750\n",
       "4    1.690463\n",
       "5   -2.162881\n",
       "6   -0.089166\n",
       "7    1.650907\n",
       "8    0.345956\n",
       "9    1.991944\n",
       "dtype: float64"
      ]
     },
     "execution_count": 14,
     "metadata": {},
     "output_type": "execute_result"
    }
   ],
   "source": [
    "pd.Series(y)"
   ]
  },
  {
   "cell_type": "markdown",
   "metadata": {},
   "source": [
    "### Lasso and Ridge \n",
    "\n",
    "Ridge:\n",
    "\n",
    "$\\underset{w}{min\\,} {{|| X w - y||_2}^2 + \\alpha {||w||_2}^2}$\n",
    "\n",
    "Lasso:\n",
    "\n",
    "$\\underset{w}{min\\,} { \\frac{1}{2n_{samples}} ||X w - y||_2 ^ 2 + \\alpha ||w||_1}$\n",
    "\n"
   ]
  },
  {
   "cell_type": "markdown",
   "metadata": {},
   "source": [
    "#### Data set: X, y \n",
    "\n",
    "#### model: \n",
    "http://scikit-learn.org/stable/modules/generated/sklearn.linear_model.Ridge.html#sklearn.linear_model.Ridge\n",
    "\n",
    "#### Hyper-parameters to set\n",
    "(1) model related: alpha, fit_intercept\n",
    "\n",
    "(2) training related: normalize, copy_X, max_iter, tol, solver, random_state\n",
    "\n",
    "#### Parameters to tune (output)\n",
    "\n",
    "intercept_, coef_"
   ]
  },
  {
   "cell_type": "code",
   "execution_count": 20,
   "metadata": {},
   "outputs": [
    {
     "name": "stdout",
     "output_type": "stream",
     "text": [
      "[ 0.          3.70916255 -0.          0.         -0.          1.88556648\n",
      "  0.         -0.         -0.         -0.        ]\n",
      "-2.28821655002688\n"
     ]
    }
   ],
   "source": [
    "# Train the Lasso model using the given X and y. Lasso has the nice feature that many irrelevant attributes have weights reduced to 0 \n",
    "# (i.e., it gives a sparse model)\n",
    "clf = linear_model.Lasso(fit_intercept=True,alpha=0.1)\n",
    "clf.fit(X,y)\n",
    "\n",
    "# let's look at the tuned parameter values.  As expected, we can see larger values on columns 1 and 5.\n",
    "print clf.coef_\n",
    "print clf.intercept_"
   ]
  },
  {
   "cell_type": "code",
   "execution_count": 21,
   "metadata": {},
   "outputs": [
    {
     "data": {
      "text/plain": [
       "array([ 0.22582744, -1.36921117,  0.95918157,  2.44027241,  1.57056382,\n",
       "       -0.96119053,  0.40570339,  1.46595206,  0.53404527,  1.32707673])"
      ]
     },
     "execution_count": 21,
     "metadata": {},
     "output_type": "execute_result"
    }
   ],
   "source": [
    "# predict y given X\n",
    "clf.predict(X)"
   ]
  },
  {
   "cell_type": "code",
   "execution_count": 22,
   "metadata": {},
   "outputs": [
    {
     "data": {
      "text/plain": [
       "0.8634515367292689"
      ]
     },
     "execution_count": 22,
     "metadata": {},
     "output_type": "execute_result"
    }
   ],
   "source": [
    "# compute the in-sample R^2 value\n",
    "1-((clf.predict(X)-y)**2).mean()/y.var()"
   ]
  },
  {
   "cell_type": "code",
   "execution_count": 23,
   "metadata": {},
   "outputs": [
    {
     "data": {
      "text/plain": [
       "0.8634515367292689"
      ]
     },
     "execution_count": 23,
     "metadata": {},
     "output_type": "execute_result"
    }
   ],
   "source": [
    "# or equivalently:\n",
    "clf.score(X,y)"
   ]
  },
  {
   "cell_type": "code",
   "execution_count": 26,
   "metadata": {},
   "outputs": [
    {
     "data": {
      "image/png": "[encoded data removed]",
      "text/plain": [
       "<Figure size 432x288 with 1 Axes>"
      ]
     },
     "metadata": {
      "needs_background": "light"
     },
     "output_type": "display_data"
    }
   ],
   "source": [
    "# We will consider a range of alpha values and visualize the tuned weights (parameters) for each alpha\n",
    "n_alphas = 200\n",
    "alphas = np.logspace(-5, 1, n_alphas)\n",
    "\n",
    "coefs = []\n",
    "R_2=[]\n",
    "for a in alphas:\n",
    "    clf = linear_model.Lasso(fit_intercept=True,alpha=a)\n",
    "    clf.fit(X,y)\n",
    "    coefs.append(clf.coef_)\n",
    "    R_2.append(1-((clf.predict(X)-y)**2).mean()/y.var())\n",
    "\n",
    "ax = plt.gca()\n",
    "ax.plot(alphas, coefs)\n",
    "ax.set_xscale('log')\n",
    "ax.set_xlim(ax.get_xlim()[::-1])  # reverse x-axis\n",
    "plt.xlabel('alpha')\n",
    "plt.ylabel('weights')\n",
    "plt.title('Lasso coefficients as a function of the regularization')\n",
    "plt.axis('tight')\n",
    "plt.show()"
   ]
  },
  {
   "cell_type": "code",
   "execution_count": 27,
   "metadata": {},
   "outputs": [
    {
     "data": {
      "image/png": "[encoded data removed]",
      "text/plain": [
       "<Figure size 432x288 with 1 Axes>"
      ]
     },
     "metadata": {
      "needs_background": "light"
     },
     "output_type": "display_data"
    }
   ],
   "source": [
    "ax = plt.gca()\n",
    "ax.plot(alphas, R_2)\n",
    "ax.set_xscale('log')\n",
    "ax.set_xlim(ax.get_xlim()[::-1])  # reverse axis\n",
    "plt.xlabel('alpha')\n",
    "plt.ylabel('weights')\n",
    "plt.title('R_2')\n",
    "plt.axis('tight')\n",
    "plt.show()"
   ]
  },
  {
   "cell_type": "markdown",
   "metadata": {},
   "source": [
    "### Model selection and Cross-validation"
   ]
  },
  {
   "cell_type": "markdown",
   "metadata": {},
   "source": [
    "#### (1) Cross-validation: evaluating estimator performance\n",
    "\n",
    "http://scikit-learn.org/stable/modules/cross_validation.html\n",
    "\n",
    "#### (2) Or it could be used for tuning hyper-parameters.\n",
    "\n",
    "http://scikit-learn.org/stable/modules/grid_search.html#grid-search"
   ]
  },
  {
   "cell_type": "markdown",
   "metadata": {},
   "source": [
    "#### Evaluating estimator performance.\n",
    "Learning the parameters of a prediction function and testing it on the same data is a methodological mistake: a model that would just repeat the labels of the samples that it has just seen would have a perfect score but would fail to predict anything useful on yet-unseen data. This situation is called overfitting. To avoid it, it is common practice when performing supervised machine learning to hold out part of the available data as a test set (X_test, y_test), then to learn a model on the remaining (training) data and evaluate its accuracy on the test data.\n",
    "\n",
    "#### Tuning hyper-parameters\n",
    "If you have a model with important hyper-parameters (e.g., the amount of penalization for Lasso or Ridge regression), you can tune (find good values of) these hyperparameters by further splitting the training data into a training and validation set (still keeping the test data separate from these for a final, unbiased measure of performance).  To tune the hyper-parameters you can try a range of parameter values, learning from the (reduced) training set and evaluating performance on the validation set, and choose the hyper-parameters with best validation set performance.   "
   ]
  },
  {
   "cell_type": "code",
   "execution_count": 28,
   "metadata": {},
   "outputs": [
    {
     "data": {
      "text/html": [
       "<div>\n",
       "<style scoped>\n",
       "    .dataframe tbody tr th:only-of-type {\n",
       "        vertical-align: middle;\n",
       "    }\n",
       "\n",
       "    .dataframe tbody tr th {\n",
       "        vertical-align: top;\n",
       "    }\n",
       "\n",
       "    .dataframe thead th {\n",
       "        text-align: right;\n",
       "    }\n",
       "</style>\n",
       "<table border=\"1\" class=\"dataframe\">\n",
       "  <thead>\n",
       "    <tr style=\"text-align: right;\">\n",
       "      <th></th>\n",
       "      <th>sale_price</th>\n",
       "      <th>gross_sq_feet</th>\n",
       "      <th>mean</th>\n",
       "      <th>Adopt A Basket</th>\n",
       "      <th>Air Quality</th>\n",
       "      <th>Animal Abuse</th>\n",
       "      <th>Animal Facility   No Permit</th>\n",
       "      <th>Animal in a Park</th>\n",
       "      <th>APPLIANCE</th>\n",
       "      <th>Asbestos</th>\n",
       "      <th>...</th>\n",
       "      <th>Unsanitary Pigeon Condition</th>\n",
       "      <th>Urinating in Public</th>\n",
       "      <th>Vacant Lot</th>\n",
       "      <th>Vending</th>\n",
       "      <th>Violation of Park Rules</th>\n",
       "      <th>Water Conservation</th>\n",
       "      <th>Water Quality</th>\n",
       "      <th>Water System</th>\n",
       "      <th>Window Guard</th>\n",
       "      <th>X Ray Machine Equipment</th>\n",
       "    </tr>\n",
       "  </thead>\n",
       "  <tbody>\n",
       "    <tr>\n",
       "      <th>0</th>\n",
       "      <td>600000</td>\n",
       "      <td>1624</td>\n",
       "      <td>80098.0</td>\n",
       "      <td>0.000000</td>\n",
       "      <td>0.027721</td>\n",
       "      <td>0.0</td>\n",
       "      <td>0.000000</td>\n",
       "      <td>0.000770</td>\n",
       "      <td>0.000257</td>\n",
       "      <td>0.001027</td>\n",
       "      <td>...</td>\n",
       "      <td>0.000000</td>\n",
       "      <td>0.000000</td>\n",
       "      <td>0.000000</td>\n",
       "      <td>0.001797</td>\n",
       "      <td>0.001540</td>\n",
       "      <td>0.003850</td>\n",
       "      <td>0.002053</td>\n",
       "      <td>0.049281</td>\n",
       "      <td>0.0</td>\n",
       "      <td>0.0</td>\n",
       "    </tr>\n",
       "    <tr>\n",
       "      <th>1</th>\n",
       "      <td>5200000</td>\n",
       "      <td>3840</td>\n",
       "      <td>149723.0</td>\n",
       "      <td>0.000000</td>\n",
       "      <td>0.010675</td>\n",
       "      <td>0.0</td>\n",
       "      <td>0.000000</td>\n",
       "      <td>0.000227</td>\n",
       "      <td>0.000227</td>\n",
       "      <td>0.003861</td>\n",
       "      <td>...</td>\n",
       "      <td>0.000227</td>\n",
       "      <td>0.000227</td>\n",
       "      <td>0.000000</td>\n",
       "      <td>0.010675</td>\n",
       "      <td>0.000454</td>\n",
       "      <td>0.001817</td>\n",
       "      <td>0.000227</td>\n",
       "      <td>0.050874</td>\n",
       "      <td>0.0</td>\n",
       "      <td>0.0</td>\n",
       "    </tr>\n",
       "    <tr>\n",
       "      <th>2</th>\n",
       "      <td>100000</td>\n",
       "      <td>2120</td>\n",
       "      <td>84085.0</td>\n",
       "      <td>0.000000</td>\n",
       "      <td>0.002511</td>\n",
       "      <td>0.0</td>\n",
       "      <td>0.000000</td>\n",
       "      <td>0.001076</td>\n",
       "      <td>0.001973</td>\n",
       "      <td>0.000359</td>\n",
       "      <td>...</td>\n",
       "      <td>0.000000</td>\n",
       "      <td>0.000000</td>\n",
       "      <td>0.004484</td>\n",
       "      <td>0.000000</td>\n",
       "      <td>0.000179</td>\n",
       "      <td>0.007354</td>\n",
       "      <td>0.001256</td>\n",
       "      <td>0.069058</td>\n",
       "      <td>0.0</td>\n",
       "      <td>0.0</td>\n",
       "    </tr>\n",
       "    <tr>\n",
       "      <th>3</th>\n",
       "      <td>775000</td>\n",
       "      <td>3423</td>\n",
       "      <td>46614.0</td>\n",
       "      <td>0.000000</td>\n",
       "      <td>0.001476</td>\n",
       "      <td>0.0</td>\n",
       "      <td>0.000000</td>\n",
       "      <td>0.000170</td>\n",
       "      <td>0.006756</td>\n",
       "      <td>0.000738</td>\n",
       "      <td>...</td>\n",
       "      <td>0.000170</td>\n",
       "      <td>0.000170</td>\n",
       "      <td>0.000908</td>\n",
       "      <td>0.000568</td>\n",
       "      <td>0.000170</td>\n",
       "      <td>0.000454</td>\n",
       "      <td>0.000341</td>\n",
       "      <td>0.012433</td>\n",
       "      <td>0.0</td>\n",
       "      <td>0.0</td>\n",
       "    </tr>\n",
       "    <tr>\n",
       "      <th>4</th>\n",
       "      <td>151000</td>\n",
       "      <td>2136</td>\n",
       "      <td>44634.0</td>\n",
       "      <td>0.000049</td>\n",
       "      <td>0.001671</td>\n",
       "      <td>0.0</td>\n",
       "      <td>0.000049</td>\n",
       "      <td>0.000344</td>\n",
       "      <td>0.006143</td>\n",
       "      <td>0.000688</td>\n",
       "      <td>...</td>\n",
       "      <td>0.000491</td>\n",
       "      <td>0.000197</td>\n",
       "      <td>0.005897</td>\n",
       "      <td>0.000590</td>\n",
       "      <td>0.000393</td>\n",
       "      <td>0.001622</td>\n",
       "      <td>0.000442</td>\n",
       "      <td>0.037445</td>\n",
       "      <td>0.0</td>\n",
       "      <td>0.0</td>\n",
       "    </tr>\n",
       "  </tbody>\n",
       "</table>\n",
       "<p>5 rows × 162 columns</p>\n",
       "</div>"
      ],
      "text/plain": [
       "   sale_price  gross_sq_feet      mean  Adopt A Basket  Air Quality  \\\n",
       "0      600000           1624   80098.0        0.000000     0.027721   \n",
       "1     5200000           3840  149723.0        0.000000     0.010675   \n",
       "2      100000           2120   84085.0        0.000000     0.002511   \n",
       "3      775000           3423   46614.0        0.000000     0.001476   \n",
       "4      151000           2136   44634.0        0.000049     0.001671   \n",
       "\n",
       "   Animal Abuse  Animal Facility   No Permit  Animal in a Park  APPLIANCE  \\\n",
       "0           0.0                     0.000000          0.000770   0.000257   \n",
       "1           0.0                     0.000000          0.000227   0.000227   \n",
       "2           0.0                     0.000000          0.001076   0.001973   \n",
       "3           0.0                     0.000000          0.000170   0.006756   \n",
       "4           0.0                     0.000049          0.000344   0.006143   \n",
       "\n",
       "   Asbestos  ...  Unsanitary Pigeon Condition  Urinating in Public  \\\n",
       "0  0.001027  ...                     0.000000             0.000000   \n",
       "1  0.003861  ...                     0.000227             0.000227   \n",
       "2  0.000359  ...                     0.000000             0.000000   \n",
       "3  0.000738  ...                     0.000170             0.000170   \n",
       "4  0.000688  ...                     0.000491             0.000197   \n",
       "\n",
       "   Vacant Lot   Vending  Violation of Park Rules  Water Conservation  \\\n",
       "0    0.000000  0.001797                 0.001540            0.003850   \n",
       "1    0.000000  0.010675                 0.000454            0.001817   \n",
       "2    0.004484  0.000000                 0.000179            0.007354   \n",
       "3    0.000908  0.000568                 0.000170            0.000454   \n",
       "4    0.005897  0.000590                 0.000393            0.001622   \n",
       "\n",
       "   Water Quality  Water System  Window Guard  X Ray Machine Equipment  \n",
       "0       0.002053      0.049281           0.0                      0.0  \n",
       "1       0.000227      0.050874           0.0                      0.0  \n",
       "2       0.001256      0.069058           0.0                      0.0  \n",
       "3       0.000341      0.012433           0.0                      0.0  \n",
       "4       0.000442      0.037445           0.0                      0.0  \n",
       "\n",
       "[5 rows x 162 columns]"
      ]
     },
     "execution_count": 28,
     "metadata": {},
     "output_type": "execute_result"
    }
   ],
   "source": [
    "# Example data: predicting housing price using 311 calls for service\n",
    "path = 'https://serv.cusp.nyu.edu/~cq299/ADS2016/Data/Bayesian/'\n",
    "data4=pd.read_csv(path + \"example4.csv\", low_memory=False)\n",
    "list_311=list(data4.loc[:,\"Adopt A Basket\":\"X Ray Machine Equipment\"].columns)\n",
    "data5=data4[[\"sale_price\",\"gross_sq_feet\",\"mean\"]+list_311]\n",
    "data5.head()"
   ]
  },
  {
   "cell_type": "code",
   "execution_count": 30,
   "metadata": {},
   "outputs": [
    {
     "name": "stdout",
     "output_type": "stream",
     "text": [
      "(2375L, 161L)\n",
      "(2375L,)\n"
     ]
    }
   ],
   "source": [
    "X=np.matrix(data5.iloc[:,1:])\n",
    "y=np.asarray(data5.sale_price)\n",
    "print X.shape\n",
    "print y.shape"
   ]
  },
  {
   "cell_type": "code",
   "execution_count": 31,
   "metadata": {},
   "outputs": [
    {
     "data": {
      "text/plain": [
       "0.8919251381230895"
      ]
     },
     "execution_count": 31,
     "metadata": {},
     "output_type": "execute_result"
    }
   ],
   "source": [
    "# In-sample R^2 value for linear regression using the whole training dataset\n",
    "lm=linear_model.LinearRegression()\n",
    "lm.fit(X,y)\n",
    "1-((lm.predict(X)-y)**2).mean()/y.var()"
   ]
  },
  {
   "cell_type": "code",
   "execution_count": 32,
   "metadata": {},
   "outputs": [
    {
     "name": "stdout",
     "output_type": "stream",
     "text": [
      "[0.1993868996716478, -0.47942815482265266, 0.20381468726355711, -1.2042508763388247, -0.2982292177640413, -0.9849369106979313, 0.3603263098669559, 0.5303999942508966, 0.22781019852227913, 0.013972752086602536]\n",
      "-0.1431134317961511\n"
     ]
    }
   ],
   "source": [
    "# How well do we do out of sample?  Let's split the data into 60% training, 40% test, and average performance over 10 random splits\n",
    "from sklearn.model_selection import train_test_split\n",
    "\n",
    "OS=[]\n",
    "for i in range(10):\n",
    "    X_train, X_test, y_train, y_test = train_test_split(X, y, test_size = 0.4, random_state = i)    \n",
    "    lm=linear_model.LinearRegression()\n",
    "    lm.fit(X_train,y_train)\n",
    "    OS.append(1-((lm.predict(X_test)-y_test)**2).mean()/y_test.var())   # could use OS.append(lm.score(X_test,y_test)) instead\n",
    "print OS\n",
    "print np.mean(OS)"
   ]
  },
  {
   "cell_type": "code",
   "execution_count": 33,
   "metadata": {},
   "outputs": [
    {
     "name": "stdout",
     "output_type": "stream",
     "text": [
      "[0.5323333658642084, 0.5705887826880625, 0.4291716878026284, 0.5812208700525767, 0.601120861733847, 0.5947635263592426, 0.5894798811017439, 0.521333941820082, 0.46050838303955244, 0.48528543544917657]\n",
      "0.5365806735911122\n"
     ]
    }
   ],
   "source": [
    "# Does ridge regression do better out of sample?  Let's try with an arbitrary choice of penalization parameter alpha = 1.\n",
    "OS=[]\n",
    "for i in range(10):\n",
    "    X_train, X_test, y_train, y_test = train_test_split(X, y, test_size = 0.4, random_state = i)    \n",
    "    lm=linear_model.Ridge(alpha=1)\n",
    "    lm.fit(X_train,y_train)\n",
    "    OS.append(1-((lm.predict(X_test)-y_test)**2).mean()/y_test.var()) # or equivalently: OS.append(lm.score(X_test,y_test))\n",
    "print OS\n",
    "print np.mean(OS)"
   ]
  },
  {
   "cell_type": "markdown",
   "metadata": {},
   "source": [
    "#### Hyper-parameter tuning.\n",
    "\n",
    "http://scikit-learn.org/stable/modules/grid_search.html#grid-search\n",
    "\n",
    "Exhaustive Grid Search. The grid search provided by GridSearchCV exhaustively generates candidates from a grid of parameter values specified with the param_grid parameter."
   ]
  },
  {
   "cell_type": "markdown",
   "metadata": {},
   "source": [
    "Now let's tune the hyper-parameters for ridge regression and calculate the OS R-squared using the new tuned alpha."
   ]
  },
  {
   "cell_type": "code",
   "execution_count": 37,
   "metadata": {},
   "outputs": [
    {
     "name": "stdout",
     "output_type": "stream",
     "text": [
      "{'alpha': 0.012648552168552958}\n",
      "{'alpha': 0.0026826957952797246}\n",
      "{'alpha': 0.001}\n",
      "{'alpha': 0.15998587196060574}\n",
      "{'alpha': 1.0}\n",
      "{'alpha': 0.1206792640639329}\n",
      "{'alpha': 0.029470517025518096}\n",
      "{'alpha': 0.004094915062380427}\n",
      "{'alpha': 0.001}\n",
      "{'alpha': 0.10481131341546852}\n",
      "0.5650434659680168\n"
     ]
    }
   ],
   "source": [
    "from sklearn.model_selection import GridSearchCV\n",
    "param_grid ={'alpha':np.logspace(-3, 0, 50)}\n",
    "\n",
    "OS=[]\n",
    "for i in range(10):\n",
    "    X_train, X_test, y_train, y_test = train_test_split(X, y, test_size = 0.4, random_state = i)\n",
    "    rid=linear_model.Ridge()\n",
    "    gr=GridSearchCV(rid,param_grid=param_grid,cv=5)\n",
    "    rs=gr.fit(X_train,y_train)\n",
    "    print rs.best_params_\n",
    "    OS.append(1-((rs.predict(X_test)-y_test)**2).mean()/y_test.var())\n",
    "print np.mean(OS)"
   ]
  },
  {
   "cell_type": "markdown",
   "metadata": {
    "collapsed": true
   },
   "source": [
    "### Decision Tree. \n",
    "\n",
    "Stop-and-Frisk Data set: https://en.wikipedia.org/wiki/Stop-and-frisk_in_New_York_City"
   ]
  },
  {
   "cell_type": "markdown",
   "metadata": {},
   "source": [
    "Please download the data set here or on NYU-Classes.\n",
    "https://serv.cusp.nyu.edu/classes/ML_2016_Spring/ML_2017/\n",
    "\n",
    "file: \"session_3_stop.csv\""
   ]
  },
  {
   "cell_type": "code",
   "execution_count": 38,
   "metadata": {},
   "outputs": [],
   "source": [
    "data=pd.read_csv(\"session_3_stop.csv\")"
   ]
  },
  {
   "cell_type": "code",
   "execution_count": 39,
   "metadata": {},
   "outputs": [
    {
     "data": {
      "text/plain": [
       "Index([u'suspected.crime', u'found.weapon', u'found.gun', u'arrested',\n",
       "       u'frisked', u'searched', u'summons.issued', u'found.contraband',\n",
       "       u'force.hands', u'force.wall', u'force.ground', u'force.drawn',\n",
       "       u'force.pointed', u'force.baton', u'force.handcuffs', u'force.pepper',\n",
       "       u'force.other', u'suspect.race', u'suspect.age', u'suspect.build',\n",
       "       u'suspect.sex', u'suspect.height', u'suspect.weight',\n",
       "       u'stopped.bc.desc', u'stopped.bc.violent', u'stopped.bc.other',\n",
       "       u'stopped.bc.object', u'stopped.bc.casing', u'stopped.bc.lookout',\n",
       "       u'stopped.bc.drugs', u'stopped.bc.clothing', u'stopped.bc.furtive',\n",
       "       u'stopped.bc.bulge', u'precinct', u'inside.outside',\n",
       "       u'location.housing', u'observation.period', u'officer.uniform',\n",
       "       u'additional.report', u'additional.investigation',\n",
       "       u'additional.proximity', u'additional.evasive',\n",
       "       u'additional.associating', u'additional.direction',\n",
       "       u'additional.highcrime', u'additional.time', u'additional.sights',\n",
       "       u'additional.other', u'radio.run', u'day', u'month', u'time.period',\n",
       "       u'date', u'lat', u'lon'],\n",
       "      dtype='object')"
      ]
     },
     "execution_count": 39,
     "metadata": {},
     "output_type": "execute_result"
    }
   ],
   "source": [
    "data.columns"
   ]
  },
  {
   "cell_type": "code",
   "execution_count": 40,
   "metadata": {},
   "outputs": [
    {
     "name": "stdout",
     "output_type": "stream",
     "text": [
      "        suspect.age  suspect.height  suspect.weight  stopped.bc.desc  \\\n",
      "93338            17        5.750000           175.0            False   \n",
      "145921           15        5.166667           140.0            False   \n",
      "19160            30        5.583333           260.0            False   \n",
      "236337           23        5.333333           170.0            False   \n",
      "46608            29        5.750000           180.0            False   \n",
      "\n",
      "        stopped.bc.violent  stopped.bc.other  stopped.bc.object  \\\n",
      "93338                False             False              False   \n",
      "145921               False              True              False   \n",
      "19160                False              True              False   \n",
      "236337               False             False               True   \n",
      "46608                False             False              False   \n",
      "\n",
      "        stopped.bc.casing  stopped.bc.lookout  stopped.bc.drugs  ...  \\\n",
      "93338               False               False             False  ...   \n",
      "145921               True               False             False  ...   \n",
      "19160               False               False             False  ...   \n",
      "236337              False               False             False  ...   \n",
      "46608               False               False             False  ...   \n",
      "\n",
      "        month_December  month_February  month_January  month_July  month_June  \\\n",
      "93338                0               0              0           0           0   \n",
      "145921               0               0              0           0           0   \n",
      "19160                0               1              0           0           0   \n",
      "236337               0               0              0           0           0   \n",
      "46608                0               0              0           0           0   \n",
      "\n",
      "        month_March  month_May  month_November  month_October  month_September  \n",
      "93338             0          0               0              0                1  \n",
      "145921            0          0               1              0                0  \n",
      "19160             0          0               0              0                0  \n",
      "236337            0          0               0              0                0  \n",
      "46608             0          0               0              0                0  \n",
      "\n",
      "[5 rows x 64 columns]\n"
     ]
    }
   ],
   "source": [
    "from sklearn.model_selection import train_test_split\n",
    "# remove records with any missing values\n",
    "data=data.dropna()\n",
    "\n",
    "# Let's take \"found.weapon\" as the target variable. \n",
    "y=data.loc[:,\"found.weapon\"]\n",
    "\n",
    "# Get the feature space.  We are using only features from before the stop, getting rid of features from during/after the stop like \"arrested\".\n",
    "X=data.loc[:,\"suspect.race\":\"time.period\"]\n",
    "X=pd.get_dummies(X)\n",
    "\n",
    "# Split data into 70% train, 30% test\n",
    "X_train,X_test,y_train,y_test=train_test_split(X, y, test_size=0.3, random_state=999)\n",
    "print X_train.head()"
   ]
  },
  {
   "cell_type": "markdown",
   "metadata": {},
   "source": [
    "#### Part one: IS and OS Accuracy of prediction. \n",
    "\n",
    "DecisionTreeClassifier:\n",
    "http://scikit-learn.org/stable/modules/generated/sklearn.tree.DecisionTreeClassifier.html#sklearn.tree.DecisionTreeClassifier\n"
   ]
  },
  {
   "cell_type": "code",
   "execution_count": 41,
   "metadata": {},
   "outputs": [
    {
     "name": "stdout",
     "output_type": "stream",
     "text": [
      "In sample accuracy: 0.9999801694520324\n",
      "Out of sample accuracy: 0.9442092356098464\n"
     ]
    }
   ],
   "source": [
    "from sklearn.tree import DecisionTreeClassifier\n",
    "\n",
    "# learn model\n",
    "dt=DecisionTreeClassifier()\n",
    "dt.fit(X_train,y_train)\n",
    "\n",
    "# in sample accuracy\n",
    "print 'In sample accuracy:',dt.score(X_train,y_train)\n",
    "\n",
    "# out of sample accuracy\n",
    "print 'Out of sample accuracy:',dt.score(X_test,y_test)"
   ]
  },
  {
   "cell_type": "markdown",
   "metadata": {},
   "source": [
    "### Practice #1: Get the average OS accuracy over 10 train/test splits "
   ]
  },
  {
   "cell_type": "code",
   "execution_count": 42,
   "metadata": {},
   "outputs": [
    {
     "name": "stdout",
     "output_type": "stream",
     "text": [
      "0.9432028502683695\n"
     ]
    }
   ],
   "source": [
    "# your code here\n",
    "OS=[]\n",
    "for i in range(10):\n",
    "    X_train, X_test, y_train, y_test = train_test_split(X, y, test_size = 0.3, random_state = i)    \n",
    "    dt = DecisionTreeClassifier()\n",
    "    dt.fit(X_train,y_train)\n",
    "    OS.append(dt.score(X_test,y_test))\n",
    "print np.mean(OS)"
   ]
  },
  {
   "cell_type": "markdown",
   "metadata": {},
   "source": [
    "#### Does that mean our model is super good? However... "
   ]
  },
  {
   "cell_type": "code",
   "execution_count": 43,
   "metadata": {},
   "outputs": [
    {
     "name": "stdout",
     "output_type": "stream",
     "text": [
      "0.964776513048\n"
     ]
    }
   ],
   "source": [
    "# What would our accuracy be if we predicted 0 (no weapon found) for everyone?\n",
    "print 1.*len(y_test[y_test==0])/len(y_test)"
   ]
  },
  {
   "cell_type": "markdown",
   "metadata": {},
   "source": [
    "### Let's use area under the receiver operating characteristic curve (\"ROC AUC\") instead of accuracy.\n",
    "\n",
    "ROC, Area under the curve:\n",
    "http://scikit-learn.org/stable/modules/model_evaluation.html#roc-metrics\n",
    "\n",
    "https://en.wikipedia.org/wiki/Receiver_operating_characteristic\n",
    "\n",
    "Youtube:\n",
    "https://www.youtube.com/watch?v=hnRBl9-BzjQ"
   ]
  },
  {
   "cell_type": "code",
   "execution_count": 44,
   "metadata": {},
   "outputs": [
    {
     "name": "stdout",
     "output_type": "stream",
     "text": [
      "OS AUC 0.6219633254394009\n"
     ]
    }
   ],
   "source": [
    "from sklearn.metrics import roc_auc_score\n",
    "AUC_OS=[]\n",
    "for i in range(10):\n",
    "    X_train,X_test,y_train,y_test=train_test_split(X, y, test_size=0.3, random_state=i)\n",
    "    dt=DecisionTreeClassifier()\n",
    "    dt.fit(X_train,y_train)\n",
    "    # predict_proba predicts the probability of each class rather than just the most likely class\n",
    "    pred=dt.predict_proba(X_test)[:,1] # predicted probability of y = 1\n",
    "    AUC_OS.append(roc_auc_score(np.array(y_test),pred))\n",
    "print \"OS AUC\",np.mean(AUC_OS)"
   ]
  },
  {
   "cell_type": "code",
   "execution_count": 45,
   "metadata": {},
   "outputs": [
    {
     "name": "stdout",
     "output_type": "stream",
     "text": [
      "0.5025743875753135\n"
     ]
    }
   ],
   "source": [
    "# How well would we expect to do just by chance?\n",
    "chance_OS=[]\n",
    "for i in range(10):\n",
    "    X_train,X_test,y_train,y_test=train_test_split(X, y, test_size=0.3, random_state=i)\n",
    "    pred=np.random.random(len(X_test))\n",
    "    chance_OS.append(roc_auc_score(np.array(y_test.apply(int)),pred))\n",
    "print np.mean(chance_OS)"
   ]
  },
  {
   "cell_type": "markdown",
   "metadata": {},
   "source": [
    "### Control the complexity of the Decision Tree."
   ]
  },
  {
   "cell_type": "code",
   "execution_count": 46,
   "metadata": {},
   "outputs": [],
   "source": [
    "# Let's just use a single train/test split for this part:\n",
    "X_train,X_test,y_train,y_test=train_test_split(X, y, test_size=0.3,random_state=999)\n",
    "AUC_OS=[]\n",
    "for i in range(2,500,25):\n",
    "    dt=DecisionTreeClassifier(max_leaf_nodes=i)\n",
    "    dt.fit(X_train,y_train)\n",
    "    AUC_OS.append(roc_auc_score(np.array(y_test),dt.predict_proba(X_test)[:,1]))"
   ]
  },
  {
   "cell_type": "code",
   "execution_count": 48,
   "metadata": {},
   "outputs": [
    {
     "data": {
      "image/png": "[encoded data removed]",
      "text/plain": [
       "<Figure size 504x360 with 1 Axes>"
      ]
     },
     "metadata": {
      "needs_background": "light"
     },
     "output_type": "display_data"
    }
   ],
   "source": [
    "import matplotlib.pylab as plt\n",
    "plt.figure(figsize=(7,5))\n",
    "plt.plot(range(2,500,25),AUC_OS)\n",
    "plt.xlabel(\"Max leaf nodes\")\n",
    "plt.ylabel(\"OS_AUC\")\n",
    "plt.title(\"AUC vs Complexity (max leaf nodes)\")\n",
    "plt.xlim(2,500)\n",
    "plt.show()"
   ]
  },
  {
   "cell_type": "code",
   "execution_count": 49,
   "metadata": {},
   "outputs": [
    {
     "data": {
      "text/html": [
       "<div>\n",
       "<style scoped>\n",
       "    .dataframe tbody tr th:only-of-type {\n",
       "        vertical-align: middle;\n",
       "    }\n",
       "\n",
       "    .dataframe tbody tr th {\n",
       "        vertical-align: top;\n",
       "    }\n",
       "\n",
       "    .dataframe thead th {\n",
       "        text-align: right;\n",
       "    }\n",
       "</style>\n",
       "<table border=\"1\" class=\"dataframe\">\n",
       "  <thead>\n",
       "    <tr style=\"text-align: right;\">\n",
       "      <th></th>\n",
       "      <th>0</th>\n",
       "      <th>1</th>\n",
       "      <th>0</th>\n",
       "    </tr>\n",
       "  </thead>\n",
       "  <tbody>\n",
       "    <tr>\n",
       "      <th>0</th>\n",
       "      <td>0.287671</td>\n",
       "      <td>0.712329</td>\n",
       "      <td>True</td>\n",
       "    </tr>\n",
       "    <tr>\n",
       "      <th>1</th>\n",
       "      <td>0.992220</td>\n",
       "      <td>0.007780</td>\n",
       "      <td>False</td>\n",
       "    </tr>\n",
       "    <tr>\n",
       "      <th>2</th>\n",
       "      <td>0.992220</td>\n",
       "      <td>0.007780</td>\n",
       "      <td>False</td>\n",
       "    </tr>\n",
       "    <tr>\n",
       "      <th>3</th>\n",
       "      <td>0.992220</td>\n",
       "      <td>0.007780</td>\n",
       "      <td>False</td>\n",
       "    </tr>\n",
       "    <tr>\n",
       "      <th>4</th>\n",
       "      <td>0.992220</td>\n",
       "      <td>0.007780</td>\n",
       "      <td>False</td>\n",
       "    </tr>\n",
       "  </tbody>\n",
       "</table>\n",
       "</div>"
      ],
      "text/plain": [
       "          0         1      0\n",
       "0  0.287671  0.712329   True\n",
       "1  0.992220  0.007780  False\n",
       "2  0.992220  0.007780  False\n",
       "3  0.992220  0.007780  False\n",
       "4  0.992220  0.007780  False"
      ]
     },
     "execution_count": 49,
     "metadata": {},
     "output_type": "execute_result"
    }
   ],
   "source": [
    "# As an aside: predict_proba vs. predict\n",
    "tm=pd.concat((pd.DataFrame(dt.predict_proba(X_test)),pd.DataFrame(dt.predict(X_test))),axis=1)\n",
    "tm.head(5)"
   ]
  },
  {
   "cell_type": "code",
   "execution_count": 50,
   "metadata": {},
   "outputs": [
    {
     "name": "stdout",
     "output_type": "stream",
     "text": [
      "{'max_depth': 8}\n",
      "0.8099032896289174\n"
     ]
    }
   ],
   "source": [
    "from sklearn.model_selection import GridSearchCV\n",
    "# This time we'll use max_depth to control the complexity of the tree, still using the same train/test split as above,\n",
    "# and optimize the parameter value using GridSearchCV.\n",
    "param_grid = {'max_depth':range(1,11)}\n",
    "dt=DecisionTreeClassifier()\n",
    "gr=GridSearchCV(dt,param_grid=param_grid,scoring='roc_auc')\n",
    "rs=gr.fit(X_train,y_train)\n",
    "print rs.best_params_\n",
    "print roc_auc_score(np.array(y_test),rs.predict_proba(X_test)[:,1])"
   ]
  },
  {
   "cell_type": "markdown",
   "metadata": {},
   "source": [
    "### Feature Importance\n",
    "Decision trees can be used for feature selection by calculating the Gini importance of each feature (higher = more important)."
   ]
  },
  {
   "cell_type": "code",
   "execution_count": 51,
   "metadata": {},
   "outputs": [
    {
     "data": {
      "text/html": [
       "<div>\n",
       "<style scoped>\n",
       "    .dataframe tbody tr th:only-of-type {\n",
       "        vertical-align: middle;\n",
       "    }\n",
       "\n",
       "    .dataframe tbody tr th {\n",
       "        vertical-align: top;\n",
       "    }\n",
       "\n",
       "    .dataframe thead th {\n",
       "        text-align: right;\n",
       "    }\n",
       "</style>\n",
       "<table border=\"1\" class=\"dataframe\">\n",
       "  <thead>\n",
       "    <tr style=\"text-align: right;\">\n",
       "      <th></th>\n",
       "      <th>variables</th>\n",
       "      <th>importance</th>\n",
       "    </tr>\n",
       "  </thead>\n",
       "  <tbody>\n",
       "    <tr>\n",
       "      <th>6</th>\n",
       "      <td>stopped.bc.object</td>\n",
       "      <td>0.347113</td>\n",
       "    </tr>\n",
       "    <tr>\n",
       "      <th>44</th>\n",
       "      <td>location.housing_transit</td>\n",
       "      <td>0.252264</td>\n",
       "    </tr>\n",
       "    <tr>\n",
       "      <th>13</th>\n",
       "      <td>precinct</td>\n",
       "      <td>0.071092</td>\n",
       "    </tr>\n",
       "    <tr>\n",
       "      <th>11</th>\n",
       "      <td>stopped.bc.furtive</td>\n",
       "      <td>0.064385</td>\n",
       "    </tr>\n",
       "    <tr>\n",
       "      <th>15</th>\n",
       "      <td>observation.period</td>\n",
       "      <td>0.0312169</td>\n",
       "    </tr>\n",
       "  </tbody>\n",
       "</table>\n",
       "</div>"
      ],
      "text/plain": [
       "                   variables importance\n",
       "6          stopped.bc.object   0.347113\n",
       "44  location.housing_transit   0.252264\n",
       "13                  precinct   0.071092\n",
       "11        stopped.bc.furtive   0.064385\n",
       "15        observation.period  0.0312169"
      ]
     },
     "execution_count": 51,
     "metadata": {},
     "output_type": "execute_result"
    }
   ],
   "source": [
    "dt = DecisionTreeClassifier(max_depth=8)\n",
    "dt.fit(X_train, y_train)\n",
    "Feature_importance=pd.DataFrame([list(X_train.columns),list(dt.feature_importances_)]).T\n",
    "Feature_importance.columns=[\"variables\",\"importance\"]\n",
    "\n",
    "# list the top 5 most important features in order\n",
    "Feature_importance.sort_values(by=\"importance\",ascending=False).iloc[:5,:]"
   ]
  },
  {
   "cell_type": "code",
   "execution_count": 52,
   "metadata": {},
   "outputs": [
    {
     "name": "stdout",
     "output_type": "stream",
     "text": [
      "The AUC score for this simple model with 3 features is 0.7652671763076443\n"
     ]
    }
   ],
   "source": [
    "# Let's generate our new training and testing model using the top three features.\n",
    "X_train_simple=X_train.loc[:,[\"stopped.bc.object\",\"location.housing_transit\",\"precinct\"]]\n",
    "X_test_simple=X_test.loc[:,[\"stopped.bc.object\",\"location.housing_transit\",\"precinct\"]]\n",
    "\n",
    "# Now let's see the performance of this simple model.\n",
    "dt = DecisionTreeClassifier(max_depth=8)\n",
    "dt.fit(X_train_simple, y_train)\n",
    "print \"The AUC score for this simple model with 3 features is\",roc_auc_score(y_test,dt.predict_proba(X_test_simple)[:,1])"
   ]
  },
  {
   "cell_type": "markdown",
   "metadata": {},
   "source": [
    "### Visualize the Tree we built. "
   ]
  },
  {
   "cell_type": "code",
   "execution_count": 53,
   "metadata": {},
   "outputs": [
    {
     "name": "stdout",
     "output_type": "stream",
     "text": [
      "digraph Tree {\n",
      "node [shape=box, style=\"filled, rounded\", color=\"black\", fontname=helvetica] ;\n",
      "edge [fontname=helvetica] ;\n",
      "0 [label=\"stopped.bc.object <= 0.5, samples = 201709, value = [194674, 7035], class = no weapon found\", fillcolor=\"#e58139f6\"] ;\n",
      "1 [label=\"location.housing_transit <= 0.5, samples = 197033, value = [191647, 5386], class = no weapon found\", fillcolor=\"#e58139f8\"] ;\n",
      "0 -> 1 [labeldistance=2.5, labelangle=45, headlabel=\"True\"] ;\n",
      "2 [label=\"samples = 192689, value = [188560, 4129], class = no weapon found\", fillcolor=\"#e58139f9\"] ;\n",
      "1 -> 2 ;\n",
      "3 [label=\"samples = 4344, value = [3087, 1257], class = no weapon found\", fillcolor=\"#e5813997\"] ;\n",
      "1 -> 3 ;\n",
      "4 [label=\"location.housing_transit <= 0.5, samples = 4676, value = [3027, 1649], class = no weapon found\", fillcolor=\"#e5813974\"] ;\n",
      "0 -> 4 [labeldistance=2.5, labelangle=-45, headlabel=\"False\"] ;\n",
      "5 [label=\"samples = 4083, value = [2798, 1285], class = no weapon found\", fillcolor=\"#e581398a\"] ;\n",
      "4 -> 5 ;\n",
      "6 [label=\"samples = 593, value = [229, 364], class = weapon found\", fillcolor=\"#399de55f\"] ;\n",
      "4 -> 6 ;\n",
      "}\n"
     ]
    }
   ],
   "source": [
    "from sklearn import tree\n",
    "\n",
    "dt = DecisionTreeClassifier(max_depth=2) # just to keep it simple for visualization\n",
    "dt.fit(X_train,y_train)\n",
    "\n",
    "# display the output using www.webgraphviz.com, or if you have GraphViz installed on\n",
    "# your computer, you can use that\n",
    "print tree.export_graphviz(dt,out_file=None,\n",
    "                         feature_names=X_train.columns.values,  \n",
    "                         class_names=['no weapon found','weapon found'],  \n",
    "                         filled=True, rounded=True,  \n",
    "                         special_characters=True,impurity=False).replace(\"<br/>\",\", \").replace(\"&le;\",\"<=\").replace(\"=<\",\"=\\\"\").replace(\">,\",\"\\\",\")"
   ]
  },
  {
   "cell_type": "markdown",
   "metadata": {},
   "source": [
    "If you want to install GraphViz on your own machine:\n",
    "\n",
    "conda install graphviz\n",
    "\n",
    "pip install pydot\n",
    "\n",
    "pip install pydotplus\n",
    "\n",
    "For people who experienced this error: \"GraphViz's executables not found\"\n",
    "\n",
    "http://stackoverflow.com/questions/18438997/why-is-pydot-unable-to-find-graphvizs-executables-in-windows-8"
   ]
  },
  {
   "cell_type": "code",
   "execution_count": 54,
   "metadata": {},
   "outputs": [
    {
     "data": {
      "image/png": "[encoded data removed]",
      "text/plain": [
       "<IPython.core.display.Image object>"
      ]
     },
     "execution_count": 54,
     "metadata": {},
     "output_type": "execute_result"
    }
   ],
   "source": [
    "# This will only work if GraphViz is installed on your machine\n",
    "from sklearn import tree\n",
    "from IPython.display import Image  \n",
    "import pydotplus\n",
    "thestring = tree.export_graphviz(dt, out_file=None,  \n",
    "                         feature_names=X_train.columns.values, \n",
    "                         class_names=['no weapon found','weapon found'],  \n",
    "                         filled=True, rounded=True,  \n",
    "                         special_characters=True,impurity=False)\n",
    "graph = pydotplus.graph_from_dot_data(thestring)  \n",
    "Image(graph.create_png())  "
   ]
  },
  {
   "cell_type": "markdown",
   "metadata": {},
   "source": [
    "### Random Forests\n",
    "\n",
    "http://scikit-learn.org/stable/modules/generated/sklearn.ensemble.RandomForestClassifier.html\n"
   ]
  },
  {
   "cell_type": "code",
   "execution_count": 55,
   "metadata": {},
   "outputs": [
    {
     "name": "stdout",
     "output_type": "stream",
     "text": [
      "0.8035066509686806\n"
     ]
    }
   ],
   "source": [
    "# same training data as above\n",
    "from sklearn.ensemble import RandomForestClassifier\n",
    "rf = RandomForestClassifier(n_estimators=30, n_jobs=-1,max_leaf_nodes=10)\n",
    "rf.fit(X_train, y_train)\n",
    "pred=rf.predict_proba(X_test)[:,1]\n",
    "print roc_auc_score(y_test,pred)"
   ]
  },
  {
   "cell_type": "markdown",
   "metadata": {},
   "source": [
    "### Practice #2. Let's fix max_leaf_nodes=10, build forests with between 1 and 50 trees, and plot the AUC as a function of number of trees (n_estimators)."
   ]
  },
  {
   "cell_type": "code",
   "execution_count": 57,
   "metadata": {},
   "outputs": [
    {
     "name": "stdout",
     "output_type": "stream",
     "text": [
      "[0.6769552031355484, 0.7726785770432876, 0.7968747218795185, 0.8062021294713728, 0.8002247891613018, 0.798561138146573, 0.8032361443174872, 0.8043399390537259, 0.8024751123849506, 0.8000416258836878]\n"
     ]
    },
    {
     "data": {
      "image/png": "[encoded data removed]",
      "text/plain": [
       "<Figure size 504x360 with 1 Axes>"
      ]
     },
     "metadata": {
      "needs_background": "light"
     },
     "output_type": "display_data"
    }
   ],
   "source": [
    "# your code here\n",
    "AUC=[]\n",
    "for i in range(1,51,5):\n",
    "    rf = RandomForestClassifier(n_estimators=i, n_jobs=-1,max_leaf_nodes=10)\n",
    "    rf.fit(X_train, y_train)\n",
    "    pred=rf.predict_proba(X_test)[:,1]\n",
    "    AUC.append(roc_auc_score(np.array(y_test),pred))\n",
    "print AUC\n",
    "\n",
    "plt.figure(figsize=(7,5))\n",
    "plt.plot(range(1,51,5),AUC)\n",
    "plt.xlabel(\"Number of trees in forest\")\n",
    "plt.ylabel(\"OS_AUC\")\n",
    "plt.title(\"AUC vs num_estimators\")\n",
    "plt.xlim(1,51)\n",
    "plt.show()"
   ]
  },
  {
   "cell_type": "markdown",
   "metadata": {},
   "source": [
    "### Practice #3.  Use GridSearchCV to optimize the hyperparameter, n_estimators."
   ]
  },
  {
   "cell_type": "code",
   "execution_count": 58,
   "metadata": {},
   "outputs": [
    {
     "name": "stdout",
     "output_type": "stream",
     "text": [
      "{'n_estimators': 36}\n",
      "0.8054736674785785\n"
     ]
    }
   ],
   "source": [
    "# your code here\n",
    "param_grid = {'n_estimators':range(1,51,5)}\n",
    "rf = RandomForestClassifier(n_jobs=-1,max_leaf_nodes=10)\n",
    "gs = GridSearchCV(rf,param_grid=param_grid,scoring='roc_auc')\n",
    "rs = gs.fit(X_train,y_train)\n",
    "pred=rs.predict_proba(X_test)[:,1]\n",
    "print rs.best_params_\n",
    "print roc_auc_score(np.array(y_test),pred)"
   ]
  }
 ],
 "metadata": {
  "anaconda-cloud": {},
  "kernelspec": {
   "display_name": "Python 3",
   "language": "python",
   "name": "python3"
  },
  "language_info": {
   "codemirror_mode": {
    "name": "ipython",
    "version": 3
   },
   "file_extension": ".py",
   "mimetype": "text/x-python",
   "name": "python",
   "nbconvert_exporter": "python",
   "pygments_lexer": "ipython3",
   "version": "3.7.4"
  }
 },
 "nbformat": 4,
 "nbformat_minor": 2
}
